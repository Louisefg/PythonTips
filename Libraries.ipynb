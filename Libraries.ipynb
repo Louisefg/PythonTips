{
 "cells": [
  {
   "cell_type": "markdown",
   "id": "finnish-receptor",
   "metadata": {},
   "source": [
    "# Few usefull libraries"
   ]
  },
  {
   "cell_type": "markdown",
   "id": "opposed-stand",
   "metadata": {},
   "source": [
    "## Pydoc\n",
    "To create a documentation in html of our code. "
   ]
  },
  {
   "cell_type": "code",
   "execution_count": null,
   "id": "lightweight-signature",
   "metadata": {},
   "outputs": [],
   "source": []
  },
  {
   "cell_type": "code",
   "execution_count": null,
   "id": "discrete-mississippi",
   "metadata": {},
   "outputs": [],
   "source": []
  },
  {
   "cell_type": "code",
   "execution_count": null,
   "id": "conventional-transmission",
   "metadata": {},
   "outputs": [],
   "source": []
  },
  {
   "cell_type": "code",
   "execution_count": null,
   "id": "scheduled-dubai",
   "metadata": {},
   "outputs": [],
   "source": []
  },
  {
   "cell_type": "code",
   "execution_count": null,
   "id": "reduced-series",
   "metadata": {},
   "outputs": [],
   "source": []
  },
  {
   "cell_type": "code",
   "execution_count": null,
   "id": "recreational-tattoo",
   "metadata": {},
   "outputs": [],
   "source": []
  }
 ],
 "metadata": {
  "kernelspec": {
   "display_name": "Python[lotus]",
   "language": "python",
   "name": "lotus"
  },
  "language_info": {
   "codemirror_mode": {
    "name": "ipython",
    "version": 3
   },
   "file_extension": ".py",
   "mimetype": "text/x-python",
   "name": "python",
   "nbconvert_exporter": "python",
   "pygments_lexer": "ipython3",
   "version": "3.7.10"
  }
 },
 "nbformat": 4,
 "nbformat_minor": 5
}
