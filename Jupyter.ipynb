{
 "cells": [
  {
   "cell_type": "markdown",
   "id": "generous-situation",
   "metadata": {},
   "source": [
    "<h1 style=\"font-size:300%;color:#6756AD;text-align:center\">Jupyter basics</h1>\n",
    "To use html in a jupyter notebook. \n",
    "\n",
    "---\n",
    "---\n",
    "\n",
    "Sources : [medium](https://medium.com/analytics-vidhya/the-ultimate-markdown-guide-for-jupyter-notebook-d5e5abf728fd)\n",
    "\n",
    "                                                                                                         "
   ]
  },
  {
   "cell_type": "markdown",
   "id": "deluxe-belize",
   "metadata": {},
   "source": [
    "## Anchor links\n",
    "\n",
    "A link on a page that brings you to a specific place on that page. In a Jupyter Notebok, it can be used to link to any section of the notebook for easy navigation. \n",
    "\n",
    "*Note : The ID used fot he linking should be unique to avoid misdirection.*\n",
    "\n",
    "**Technique 1**\n",
    "\n",
    "Put ```<a id=\"id\"></a>``` at the section you want to refer to and ```[Link](#id)``` here to make the link. \n",
    "\n",
    "[Link to the test section](#id)\n",
    "\n",
    "**Technique 2**\n",
    "\n",
    "If you have the section with the heading \"Section test for Anchor links\", to aff an anchor link to this section, simply add ```[Link](#Section-test-for-Anchor-links)``` : [Link](#Section-test-for-Anchor-links)\n",
    "\n",
    " ---"
   ]
  },
  {
   "cell_type": "markdown",
   "id": "destroyed-myrtle",
   "metadata": {},
   "source": [
    "## Task list\n",
    "\n",
    "```\n",
    "- [ ] Some task\n",
    "- [x] Some more task\n",
    "```\n",
    "\n",
    "- [ ] Some task\n",
    "- [x] Some more task\n",
    "\n",
    "---"
   ]
  },
  {
   "cell_type": "markdown",
   "id": "ranging-screening",
   "metadata": {},
   "source": [
    "## Inline Code\n",
    "\n",
    "To perform syntax highlighting in piece of block code, add the name of the language in the top : \n",
    "\n",
    "\\```python \n",
    "\n",
    "s = \"Python syntax highlighting\" \n",
    "\n",
    "print s\n",
    "\n",
    "\\```\n",
    "\n",
    "```python \n",
    "\n",
    "s = \"Python syntax highlighting\" \n",
    "\n",
    "print s\n",
    "\n",
    "```\n",
    "\n",
    "---"
   ]
  },
  {
   "cell_type": "markdown",
   "id": "settled-imaging",
   "metadata": {},
   "source": [
    "## Section test for Anchor links\n",
    "\n",
    "<a id=\"id\"></a>\n",
    "\n",
    "The links should bring us here. \n",
    "\n",
    "---"
   ]
  },
  {
   "cell_type": "markdown",
   "id": "widespread-exhibition",
   "metadata": {},
   "source": [
    "## Tables \n",
    "```\n",
    "|Header|Header|Header|\n",
    "|------|------|------|\n",
    "|A     |B     |C     |\n",
    "|X     |Y     |Z     |\n",
    "```\n",
    "\n",
    "|Header|Header|Header|\n",
    "|------|------|------|\n",
    "|A     |B     |C     |\n",
    "|X     |Y     |Z     |\n",
    "\n",
    "---"
   ]
  },
  {
   "cell_type": "markdown",
   "id": "romance-cabin",
   "metadata": {},
   "source": [
    "## Inline html\n",
    "\n",
    "### Color text\n",
    "\n",
    "```<span style='color:blue'>Some Text</span>``` gives <span style='color:blue'>Some Text</span>\n",
    "\n",
    "### Text font family\n",
    "\n",
    "```<span style=\"font-family:Comic Sans MS\">This is a text</span>``` <span style=\"font-family:Comic Sans MS\">This is a text</span>\n",
    "\n",
    "This is a [list](https://www.tutorialbrain.com/css_tutorial/css_font_family_list/) of some commonly used fonts. \n"
   ]
  },
  {
   "cell_type": "markdown",
   "id": "breathing-samba",
   "metadata": {},
   "source": [
    "### Colored Note Boxes\n",
    "\n",
    "<span style='color:blue'>Blue boxes</span> : alert-info\n",
    "\n",
    "```\n",
    "<div class=\"alert alert-block alert-info\">\n",
    "<b>Tip:</b> Use blue boxes (alert-info) for tips and notes.</div>\n",
    "```\n",
    "\n",
    "<div class=\"alert alert-block alert-info\">\n",
    "<b>Tip:</b> Use blue boxes (alert-info) for tips and notes.</div>\n",
    "\n",
    "<span style='color:yellow'>Yellow boxes</span> : alert-warning\n",
    "\n",
    "```\n",
    "<div class=\"alert alert-block alert-warning\"> ... </div>\n",
    "```\n",
    "\n",
    "<div class=\"alert alert-block alert-warning\">\n",
    "<b>Example:</b> Use yellow boxes for examples that are not inside code cells, or use for mathematical formulas if needed. Typically also used to display warning messages.\n",
    "</div>\n",
    "\n",
    "<span style='color:green'>Green boxes</span> : alert-success\n",
    "\n",
    "```\n",
    "<div class=\"alert alert-block alert-success\"> ... </div>\n",
    "```\n",
    "\n",
    "<div class=\"alert alert-block alert-success\">\n",
    "<b>Success:</b> This alert box indicates a successful or positive action.\n",
    "</div>\n",
    "\n",
    "<span style='color:red'>Red boxes</span> : alert-danger\n",
    "\n",
    "```\n",
    "<div class=\"alert alert-block alert-danger\"> ... </div>\n",
    "```\n",
    "\n",
    "<div class=\"alert alert-block alert-danger\">\n",
    "<b>Danger:</b> This alert box indicates a dangerous or potentially negative action.\n",
    "</div>"
   ]
  },
  {
   "cell_type": "markdown",
   "id": "scheduled-death",
   "metadata": {},
   "source": [
    "### Cell background color \n",
    "\n",
    "```<code style=\"background:yellow;color:black\">Text</code>```\n",
    "\n",
    "<code style=\"background:yellow;color:black\">Useful for highlighting to grab the attention of the reader towards certain points.</code>\n",
    "\n",
    "Or simplier : ```<mark>milk</mark>```\n",
    "\n",
    "Do not forget to buy <mark>milk</mark> today."
   ]
  },
  {
   "cell_type": "code",
   "execution_count": null,
   "id": "difficult-briefs",
   "metadata": {},
   "outputs": [],
   "source": []
  }
 ],
 "metadata": {
  "kernelspec": {
   "display_name": "Python[lotus]",
   "language": "python",
   "name": "lotus"
  },
  "language_info": {
   "codemirror_mode": {
    "name": "ipython",
    "version": 3
   },
   "file_extension": ".py",
   "mimetype": "text/x-python",
   "name": "python",
   "nbconvert_exporter": "python",
   "pygments_lexer": "ipython3",
   "version": "3.7.10"
  }
 },
 "nbformat": 4,
 "nbformat_minor": 5
}
