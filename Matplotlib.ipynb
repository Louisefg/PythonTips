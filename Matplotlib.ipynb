{
 "cells": [
  {
   "cell_type": "markdown",
   "id": "verbal-withdrawal",
   "metadata": {},
   "source": [
    "# Matplotlib Tips\n",
    "\n",
    "For a better visualization"
   ]
  },
  {
   "cell_type": "code",
   "execution_count": 1,
   "id": "standard-capacity",
   "metadata": {},
   "outputs": [],
   "source": [
    "import matplotlib.pyplot as plt"
   ]
  },
  {
   "cell_type": "markdown",
   "id": "animated-musician",
   "metadata": {},
   "source": [
    "### Change some parameters in all figures\n",
    "\n",
    "Use ```rcParams``` to change defaut value of matplotlib.\n",
    "\n",
    "List of rcParams editable [here](https://matplotlib.org/stable/api/matplotlib_configuration_api.html). "
   ]
  },
  {
   "cell_type": "code",
   "execution_count": 3,
   "id": "proud-credits",
   "metadata": {},
   "outputs": [],
   "source": [
    "plt.rcParams['font.size'] = 16    \n",
    "plt.rcParams['savefig.format'] = 'png'\n",
    "plt.rcParams['figure.figsize'] = [10,10] \n",
    "plt.rcParams['image.cmap'] = 'bone'"
   ]
  },
  {
   "cell_type": "code",
   "execution_count": null,
   "id": "fifteen-draft",
   "metadata": {},
   "outputs": [],
   "source": []
  },
  {
   "cell_type": "code",
   "execution_count": null,
   "id": "right-sydney",
   "metadata": {},
   "outputs": [],
   "source": []
  }
 ],
 "metadata": {
  "kernelspec": {
   "display_name": "Python[lotus]",
   "language": "python",
   "name": "lotus"
  },
  "language_info": {
   "codemirror_mode": {
    "name": "ipython",
    "version": 3
   },
   "file_extension": ".py",
   "mimetype": "text/x-python",
   "name": "python",
   "nbconvert_exporter": "python",
   "pygments_lexer": "ipython3",
   "version": "3.7.10"
  }
 },
 "nbformat": 4,
 "nbformat_minor": 5
}
