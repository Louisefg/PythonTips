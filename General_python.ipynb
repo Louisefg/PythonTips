{
 "cells": [
  {
   "cell_type": "markdown",
   "id": "found-format",
   "metadata": {},
   "source": [
    "<h1 style=\"font-size:300%;color:#6756AD;text-align:center\">General Python</h1>\n",
    "<p style='text-align:center'>General Python tips</p>\n",
    "\n",
    "---\n",
    "---\n"
   ]
  },
  {
   "cell_type": "markdown",
   "id": "together-screen",
   "metadata": {},
   "source": [
    "The ```eval``` function is a built-in function that allows to evaluate arbitrary Python expressions from a string-based or compiled-code-based input.\n",
    "\n",
    "More details [here](https://docs.python.org/3/library/functions.html#eval) and [here](https://realpython.com/python-eval-function/)."
   ]
  },
  {
   "cell_type": "code",
   "execution_count": 2,
   "id": "respiratory-divorce",
   "metadata": {},
   "outputs": [
    {
     "name": "stdout",
     "output_type": "stream",
     "text": [
      "4\n"
     ]
    }
   ],
   "source": [
    "k = 4\n",
    "print(eval('k'))"
   ]
  },
  {
   "cell_type": "code",
   "execution_count": null,
   "id": "different-apache",
   "metadata": {},
   "outputs": [],
   "source": []
  },
  {
   "cell_type": "code",
   "execution_count": null,
   "id": "raising-scoop",
   "metadata": {},
   "outputs": [],
   "source": []
  },
  {
   "cell_type": "code",
   "execution_count": null,
   "id": "confirmed-waste",
   "metadata": {},
   "outputs": [],
   "source": []
  },
  {
   "cell_type": "code",
   "execution_count": null,
   "id": "varied-baptist",
   "metadata": {},
   "outputs": [],
   "source": []
  },
  {
   "cell_type": "code",
   "execution_count": null,
   "id": "flying-reasoning",
   "metadata": {},
   "outputs": [],
   "source": []
  },
  {
   "cell_type": "code",
   "execution_count": null,
   "id": "caroline-geneva",
   "metadata": {},
   "outputs": [],
   "source": []
  }
 ],
 "metadata": {
  "kernelspec": {
   "display_name": "Python[lotus]",
   "language": "python",
   "name": "lotus"
  },
  "language_info": {
   "codemirror_mode": {
    "name": "ipython",
    "version": 3
   },
   "file_extension": ".py",
   "mimetype": "text/x-python",
   "name": "python",
   "nbconvert_exporter": "python",
   "pygments_lexer": "ipython3",
   "version": "3.7.10"
  }
 },
 "nbformat": 4,
 "nbformat_minor": 5
}
